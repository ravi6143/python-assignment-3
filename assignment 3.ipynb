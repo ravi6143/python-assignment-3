{
 "cells": [
  {
   "cell_type": "code",
   "execution_count": 1,
   "id": "7e539ddd-e092-424c-9c6e-03ba3b4ac640",
   "metadata": {},
   "outputs": [
    {
     "data": {
      "text/plain": [
       "\" 'def' keyword i used to create a function\""
      ]
     },
     "execution_count": 1,
     "metadata": {},
     "output_type": "execute_result"
    }
   ],
   "source": [
    "# Question - 1 \n",
    "#ans - \n",
    "\n",
    "\"\"\" 'def' keyword i used to create a function\"\"\""
   ]
  },
  {
   "cell_type": "code",
   "execution_count": 34,
   "id": "70490643-3641-4237-a707-78510d5d5c6b",
   "metadata": {},
   "outputs": [],
   "source": [
    "def odd():\n",
    "    num = []\n",
    "    for i in range(1, 25):\n",
    "    \n",
    "        if i % 2 != 0 :\n",
    "            num.append(i)\n",
    "    return(num)\n",
    "            \n",
    "    "
   ]
  },
  {
   "cell_type": "code",
   "execution_count": 35,
   "id": "d0a08dd4-b1be-46bc-83cc-16c2606ec49c",
   "metadata": {},
   "outputs": [
    {
     "data": {
      "text/plain": [
       "[1, 3, 5, 7, 9, 11, 13, 15, 17, 19, 21, 23]"
      ]
     },
     "execution_count": 35,
     "metadata": {},
     "output_type": "execute_result"
    }
   ],
   "source": [
    "odd()"
   ]
  },
  {
   "cell_type": "code",
   "execution_count": null,
   "id": "34b2c4bf-e3ba-4bc7-b6e9-f3e309e54b0a",
   "metadata": {},
   "outputs": [],
   "source": []
  },
  {
   "cell_type": "code",
   "execution_count": null,
   "id": "581375a6-d810-43bc-b2ad-6a9859a9c05d",
   "metadata": {},
   "outputs": [],
   "source": []
  },
  {
   "cell_type": "code",
   "execution_count": 37,
   "id": "d9aefd6e-3b89-452f-beab-b8f405654338",
   "metadata": {},
   "outputs": [
    {
     "data": {
      "text/plain": [
       "\" '*' is used to pass the multiple values in the function and\\n'**' is used to get the output form the function in the form of dictionary\""
      ]
     },
     "execution_count": 37,
     "metadata": {},
     "output_type": "execute_result"
    }
   ],
   "source": [
    "# Question -2 \n",
    "#ans -\n",
    "\"\"\" '*args' is used to pass the multiple values in the function and\n",
    "'**kwargs' is used to get the output form the function in the form of dictionary\"\"\""
   ]
  },
  {
   "cell_type": "code",
   "execution_count": 38,
   "id": "3e12c5d8-147e-4a89-a379-dc301107fcdb",
   "metadata": {},
   "outputs": [],
   "source": [
    "def name(*args):\n",
    "    return args"
   ]
  },
  {
   "cell_type": "code",
   "execution_count": 39,
   "id": "1d7b0893-4589-4036-8703-c05b4d50179e",
   "metadata": {},
   "outputs": [
    {
     "data": {
      "text/plain": [
       "(1, 2, 3, 4, 5, 5)"
      ]
     },
     "execution_count": 39,
     "metadata": {},
     "output_type": "execute_result"
    }
   ],
   "source": [
    "name(1,2,3,4,5,5)"
   ]
  },
  {
   "cell_type": "code",
   "execution_count": 40,
   "id": "b3d4ab5c-7395-4232-8335-f5735bdff547",
   "metadata": {},
   "outputs": [
    {
     "data": {
      "text/plain": [
       "('ravi', 34, 67, 67.09, True, [3, 5, 7])"
      ]
     },
     "execution_count": 40,
     "metadata": {},
     "output_type": "execute_result"
    }
   ],
   "source": [
    "name('ravi',34,67,67.09,True,[3,5,7])"
   ]
  },
  {
   "cell_type": "code",
   "execution_count": null,
   "id": "3f906264-6fa9-486b-a6a4-f5a1017a258e",
   "metadata": {},
   "outputs": [],
   "source": []
  },
  {
   "cell_type": "code",
   "execution_count": 41,
   "id": "da7d03ef-b584-4e9c-ab8f-940a48a2fcf0",
   "metadata": {},
   "outputs": [],
   "source": [
    "def name(**kwargs):\n",
    "    return kwargs"
   ]
  },
  {
   "cell_type": "code",
   "execution_count": 42,
   "id": "348f61e3-a82b-4693-a848-cc6e6b923fb9",
   "metadata": {},
   "outputs": [
    {
     "data": {
      "text/plain": [
       "{'a': 'name', 'b': 'ravisharma'}"
      ]
     },
     "execution_count": 42,
     "metadata": {},
     "output_type": "execute_result"
    }
   ],
   "source": [
    "name(a='name',b='ravisharma')"
   ]
  },
  {
   "cell_type": "code",
   "execution_count": null,
   "id": "68ab3177-18cd-40dd-9858-b4bf9f75223f",
   "metadata": {},
   "outputs": [],
   "source": []
  },
  {
   "cell_type": "code",
   "execution_count": null,
   "id": "d6d584ec-751f-4df5-ad19-43bbfdcec58d",
   "metadata": {},
   "outputs": [],
   "source": []
  },
  {
   "cell_type": "code",
   "execution_count": 43,
   "id": "2628a740-9211-4bf4-aeb1-5b4097bd5e5b",
   "metadata": {},
   "outputs": [
    {
     "data": {
      "text/plain": [
       "\" iterator is an object which allow to iterate over collections of data\\nmethod used to initialize iterator object 'iter()' is used\\nan iterable objet is given and it returns an iterator object\\n\\n\\nto initialize the iteration , method used is 'next()' \\nit retrives the next element form the iterator and returns it.\""
      ]
     },
     "execution_count": 43,
     "metadata": {},
     "output_type": "execute_result"
    }
   ],
   "source": [
    "# Question -3\n",
    "#ans -\n",
    "\"\"\" iterator is an object which allow to iterate over collections of data\n",
    "method used to initialize iterator object 'iter()' is used\n",
    "an iterable objet is given and it returns an iterator object\n",
    "\n",
    "\n",
    "to initialize the iteration , method used is 'next()' \n",
    "it retrives the next element form the iterator and returns it.\"\"\""
   ]
  },
  {
   "cell_type": "code",
   "execution_count": 58,
   "id": "a5b9f6a4-91b0-4c50-97b3-71f83ac3f419",
   "metadata": {},
   "outputs": [
    {
     "name": "stdout",
     "output_type": "stream",
     "text": [
      "2\n",
      "4\n",
      "6\n",
      "8\n",
      "10\n"
     ]
    }
   ],
   "source": [
    "l = [2, 4, 6, 8, 10, 12, 14, 16, 18, 20]\n",
    "\n",
    "l1 = iter(l)\n",
    "\n",
    "for i in range(5):\n",
    "    element = next(l1)\n",
    "    print(element)"
   ]
  },
  {
   "cell_type": "code",
   "execution_count": null,
   "id": "67d14e24-043a-477f-b5f4-eccaf1fabc5a",
   "metadata": {},
   "outputs": [],
   "source": []
  },
  {
   "cell_type": "code",
   "execution_count": null,
   "id": "cc671258-0c6b-4aaa-9990-6afcf236fcdd",
   "metadata": {},
   "outputs": [],
   "source": []
  },
  {
   "cell_type": "code",
   "execution_count": null,
   "id": "bd9a1320-2465-4ec9-8664-0052b0dd78dc",
   "metadata": {},
   "outputs": [],
   "source": []
  },
  {
   "cell_type": "code",
   "execution_count": 59,
   "id": "5e78d01f-2a7c-457c-8735-03222e939154",
   "metadata": {},
   "outputs": [
    {
     "data": {
      "text/plain": [
       "\" gemerator is a function is python which is used to generate a sequence of values instead of \\nreturning a single value \\n\\n'yield' keyword is used in generator function to specify the values to be yielded\""
      ]
     },
     "execution_count": 59,
     "metadata": {},
     "output_type": "execute_result"
    }
   ],
   "source": [
    "# Question -4\n",
    "#ans -\n",
    "\"\"\" gemerator is a function is python which is used to generate a sequence of values instead of \n",
    "returning a single value \n",
    "\n",
    "'yield' keyword is used in generator function to specify the values to be yielded\"\"\" \n"
   ]
  },
  {
   "cell_type": "code",
   "execution_count": 15,
   "id": "00d3556c-1ea0-45fc-968a-782edda91f4c",
   "metadata": {},
   "outputs": [
    {
     "name": "stdout",
     "output_type": "stream",
     "text": [
      "4\n",
      "1\n",
      "-3\n",
      "-4\n",
      "-1\n",
      "3\n",
      "4\n",
      "1\n",
      "-3\n",
      "-4\n",
      "-1\n",
      "3\n",
      "4\n",
      "1\n",
      "-3\n",
      "-4\n",
      "-1\n",
      "3\n",
      "4\n",
      "1\n"
     ]
    }
   ],
   "source": [
    "def fib(n):\n",
    "    a,b = 3,4\n",
    "    for i in range (n):\n",
    "        yield b\n",
    "        a,b = b , b-a\n",
    "        \n",
    "for i in fib(20):\n",
    "    print(i)\n",
    "        \n",
    "        \n",
    "    "
   ]
  },
  {
   "cell_type": "code",
   "execution_count": null,
   "id": "0f7f9de9-79db-4054-8dd8-624ce44344cc",
   "metadata": {},
   "outputs": [],
   "source": []
  },
  {
   "cell_type": "code",
   "execution_count": null,
   "id": "00cfaa97-1b08-4188-9d0e-eecc05b8319b",
   "metadata": {},
   "outputs": [],
   "source": []
  },
  {
   "cell_type": "code",
   "execution_count": null,
   "id": "7e10b989-94d8-4b46-acb7-d471fff13126",
   "metadata": {},
   "outputs": [],
   "source": [
    "# Question - 5\n",
    "# ans - "
   ]
  },
  {
   "cell_type": "code",
   "execution_count": 32,
   "id": "40a3876f-eb94-45a5-b69c-87c697b74386",
   "metadata": {},
   "outputs": [
    {
     "name": "stdout",
     "output_type": "stream",
     "text": [
      "2\n",
      "3\n",
      "5\n",
      "7\n",
      "11\n",
      "13\n",
      "17\n",
      "19\n",
      "23\n",
      "29\n",
      "31\n",
      "37\n",
      "41\n",
      "43\n",
      "47\n",
      "53\n",
      "59\n",
      "61\n",
      "67\n",
      "71\n"
     ]
    }
   ],
   "source": [
    "def prime_gen():\n",
    "    primes = []\n",
    "    num = 2\n",
    "    \n",
    "    while num < 1000 :\n",
    "        is_prime = True\n",
    "        \n",
    "        \n",
    "        for prime in primes :\n",
    "            if num % prime == 0 :\n",
    "                is_prime = False\n",
    "                \n",
    "                break\n",
    "                \n",
    "        if is_prime :\n",
    "            primes.append(num)\n",
    "            yield num\n",
    "            \n",
    "        num +=1\n",
    "        \n",
    "        \n",
    "        \n",
    "generate = prime_gen()\n",
    "\n",
    "\n",
    "for i in range(20):\n",
    "    prime = next(generate)\n",
    "    \n",
    "    print(prime)\n",
    "        \n",
    "        \n",
    "\n",
    "        \n",
    "            \n",
    "    "
   ]
  },
  {
   "cell_type": "code",
   "execution_count": null,
   "id": "63b1ead6-d236-4b96-9a1d-f165b485d377",
   "metadata": {},
   "outputs": [],
   "source": []
  },
  {
   "cell_type": "code",
   "execution_count": null,
   "id": "32dd2167-1cf1-4360-9329-4149d7dd552d",
   "metadata": {},
   "outputs": [],
   "source": []
  },
  {
   "cell_type": "code",
   "execution_count": null,
   "id": "0ac3e20e-fac6-4a84-bb13-242d07170460",
   "metadata": {},
   "outputs": [],
   "source": [
    "# Question - 6\n",
    "# ans - "
   ]
  },
  {
   "cell_type": "code",
   "execution_count": 37,
   "id": "beed12e2-d172-4401-a104-13f8a0b466ad",
   "metadata": {},
   "outputs": [
    {
     "name": "stdout",
     "output_type": "stream",
     "text": [
      "0\n",
      "1\n",
      "1\n",
      "2\n",
      "3\n",
      "5\n",
      "8\n",
      "13\n",
      "21\n",
      "34\n"
     ]
    }
   ],
   "source": [
    "def fib():\n",
    "    a,b = 0,1\n",
    "    while True:\n",
    "        yield a\n",
    "        a,b = b,a+b\n",
    "        \n",
    "fib1 = fib()\n",
    "for i in range(10):\n",
    "    print(next(fib1))\n",
    "    "
   ]
  },
  {
   "cell_type": "code",
   "execution_count": null,
   "id": "b3cafe4a-4b1f-4fcc-80e8-c2866a7e00a1",
   "metadata": {},
   "outputs": [],
   "source": []
  },
  {
   "cell_type": "code",
   "execution_count": null,
   "id": "a021ab37-5b0a-44d8-bff6-fb0cfbaa26e3",
   "metadata": {},
   "outputs": [],
   "source": []
  },
  {
   "cell_type": "code",
   "execution_count": null,
   "id": "f2abc357-166e-4f5c-9fa1-139a327818e1",
   "metadata": {},
   "outputs": [],
   "source": [
    "# Question - 7\n",
    "# ans - \n"
   ]
  },
  {
   "cell_type": "code",
   "execution_count": 1,
   "id": "fab883bd-2f49-4b89-8e20-c6699b432cf9",
   "metadata": {},
   "outputs": [
    {
     "name": "stdout",
     "output_type": "stream",
     "text": [
      "['p', 'w', 's', 'k', 'i', 'l', 'l', 's']\n"
     ]
    }
   ],
   "source": [
    "s = 'pwskills'\n",
    "s1 = iter(s)\n",
    "\n",
    "output = [next(s1) for i in range(len(s))]\n",
    "\n",
    "print(output)\n",
    "    "
   ]
  },
  {
   "cell_type": "code",
   "execution_count": null,
   "id": "6c32ef17-a3ed-44c7-aa1d-81db873b1dc4",
   "metadata": {},
   "outputs": [],
   "source": []
  },
  {
   "cell_type": "code",
   "execution_count": null,
   "id": "a88c0b91-e4d6-4de5-9930-abcd82d9f7cc",
   "metadata": {},
   "outputs": [],
   "source": []
  },
  {
   "cell_type": "code",
   "execution_count": null,
   "id": "3a1c14a5-f6e7-4152-9243-ef43ba93a8e8",
   "metadata": {},
   "outputs": [],
   "source": []
  },
  {
   "cell_type": "code",
   "execution_count": null,
   "id": "7fd3a11a-5f31-4f93-ba01-f0ba7bbf7f19",
   "metadata": {},
   "outputs": [],
   "source": []
  },
  {
   "cell_type": "code",
   "execution_count": null,
   "id": "09e19591-49ed-4b38-9da1-bf66487086a5",
   "metadata": {},
   "outputs": [],
   "source": [
    "# Question  - 8\n",
    "# ans - "
   ]
  },
  {
   "cell_type": "code",
   "execution_count": 17,
   "id": "b2e914e0-aa51-465b-a335-3dd85e582b70",
   "metadata": {},
   "outputs": [
    {
     "name": "stdin",
     "output_type": "stream",
     "text": [
      "enter your number 171\n"
     ]
    },
    {
     "name": "stdout",
     "output_type": "stream",
     "text": [
      "it is a palindrome number\n"
     ]
    }
   ],
   "source": [
    "a = int(input(\"enter your number\"))\n",
    "rev = 0\n",
    "b = a \n",
    "\n",
    "while a > 0 :\n",
    "    rev = (rev*10)+a%10\n",
    "    a = a//10\n",
    "    \n",
    "if rev== b :\n",
    "    print(\"it is a palindrome number\")\n",
    "    \n",
    "else :\n",
    "    print(\"it is not a palindrome number\")\n",
    "        "
   ]
  },
  {
   "cell_type": "code",
   "execution_count": null,
   "id": "55ea8fc1-3e03-4b3a-9a7d-c4a5d0bf0035",
   "metadata": {},
   "outputs": [],
   "source": []
  },
  {
   "cell_type": "code",
   "execution_count": null,
   "id": "6ca5c7d2-57d9-4615-a793-28790954c1d2",
   "metadata": {},
   "outputs": [],
   "source": []
  },
  {
   "cell_type": "code",
   "execution_count": null,
   "id": "547c0c4e-7c31-4414-b8ed-f55131df2b74",
   "metadata": {},
   "outputs": [],
   "source": []
  },
  {
   "cell_type": "code",
   "execution_count": null,
   "id": "d88b6ade-a453-416e-8cea-cfa1015de605",
   "metadata": {},
   "outputs": [],
   "source": [
    "# Question - 9 \n",
    "#ans - "
   ]
  },
  {
   "cell_type": "code",
   "execution_count": 23,
   "id": "46970637-9d02-465d-ac06-c8d1a15e19df",
   "metadata": {},
   "outputs": [
    {
     "name": "stdout",
     "output_type": "stream",
     "text": [
      "1\n",
      "3\n",
      "5\n",
      "7\n",
      "9\n",
      "11\n",
      "13\n",
      "15\n",
      "17\n",
      "19\n",
      "21\n",
      "23\n",
      "25\n",
      "27\n",
      "29\n",
      "31\n",
      "33\n",
      "35\n",
      "37\n",
      "39\n",
      "41\n",
      "43\n",
      "45\n",
      "47\n",
      "49\n",
      "51\n",
      "53\n",
      "55\n",
      "57\n",
      "59\n",
      "61\n",
      "63\n",
      "65\n",
      "67\n",
      "69\n",
      "71\n",
      "73\n",
      "75\n",
      "77\n",
      "79\n",
      "81\n",
      "83\n",
      "85\n",
      "87\n",
      "89\n",
      "91\n",
      "93\n",
      "95\n",
      "97\n",
      "99\n"
     ]
    }
   ],
   "source": [
    "odd_numbers = [num for num in range(1,100) if num%2 != 0]\n",
    "for number in odd_numbers:\n",
    "    print(number)"
   ]
  },
  {
   "cell_type": "code",
   "execution_count": null,
   "id": "6f039e08-8161-4f75-ab72-d9df52ac19eb",
   "metadata": {},
   "outputs": [],
   "source": []
  }
 ],
 "metadata": {
  "kernelspec": {
   "display_name": "Python 3 (ipykernel)",
   "language": "python",
   "name": "python3"
  },
  "language_info": {
   "codemirror_mode": {
    "name": "ipython",
    "version": 3
   },
   "file_extension": ".py",
   "mimetype": "text/x-python",
   "name": "python",
   "nbconvert_exporter": "python",
   "pygments_lexer": "ipython3",
   "version": "3.10.8"
  }
 },
 "nbformat": 4,
 "nbformat_minor": 5
}
